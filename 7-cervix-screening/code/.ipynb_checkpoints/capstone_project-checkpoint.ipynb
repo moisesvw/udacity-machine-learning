{
 "cells": [
  {
   "cell_type": "markdown",
   "metadata": {},
   "source": [
    "## Load Data\n",
    "\n",
    "* Statistics\n",
    "* Exploration\n",
    "* Organize in CSV"
   ]
  },
  {
   "cell_type": "code",
   "execution_count": 1,
   "metadata": {},
   "outputs": [],
   "source": [
    "import glob\n",
    "import math\n",
    "import numpy as np\n",
    "import cv2\n",
    "import matplotlib.pyplot as plt\n",
    "import matplotlib.image as mpimg\n",
    "import pandas as pd\n",
    "import random\n",
    "from PIL import ImageFile\n",
    "import os.path\n",
    "from sklearn.model_selection import train_test_split\n",
    "from sklearn import preprocessing\n",
    "import sklearn\n",
    "import tensorflow as tf\n",
    "\n",
    "ImageFile.LOAD_TRUNCATED_IMAGES = True\n",
    "\n",
    "%matplotlib inline\n",
    "\n",
    "def encode_labels(data, label, target):\n",
    "    \"\"\"\n",
    "    Create numerical classes for data labels\n",
    "    \"\"\"\n",
    "\n",
    "    le = preprocessing.LabelEncoder()\n",
    "    le.fit([\"Type_1\", \"Type_2\", \"Type_3\"])\n",
    "    data[target] = le.transform(data[label]) \n",
    "    return data\n",
    "\n",
    "def create_data(images_path, path, rebuild=False, test_data=False):\n",
    "    \"\"\"\n",
    "    Creates trainning and test data\n",
    "    \"\"\"\n",
    "\n",
    "    if os.path.isfile(path) and (not rebuild):\n",
    "        print(\"Returning data from file\")\n",
    "        return encode_labels(pd.read_csv(path), 'label', 'target')\n",
    "\n",
    "    print(\"Generating Data\")\n",
    "    data = []\n",
    "    if test_data:\n",
    "        test_csv = pd.read_csv(\"../test/test.csv\")\n",
    "        for _, row in test_csv.iterrows():\n",
    "            label = None\n",
    "            if row[\"Type_1\"] == 1:\n",
    "                label = \"Type_1\"\n",
    "            elif row[\"Type_2\"] == 1:\n",
    "                label = \"Type_2\"\n",
    "            elif row[\"Type_3\"] == 1:\n",
    "                label = \"Type_3\"\n",
    "            if not label:\n",
    "                continue\n",
    "            item = {\n",
    "                    \"image\": \"../test/\" + row[\"image_name\"],\n",
    "                    \"label\": label,\n",
    "                    \"desc\": \"test\",\n",
    "                    \"height\": \"none\",\n",
    "                    \"width\": \"none\"\n",
    "                   }\n",
    "            data.append(item)\n",
    "    else:\n",
    "        for impath in images_path:\n",
    "            line = impath.split(\"/\") #['..', 'train', 'Type_1', '0.jpg']\n",
    "            img  = mpimg.imread(impath, \"JPG\")\n",
    "            item = {\n",
    "                    \"image\": impath,\n",
    "                    \"label\": line[2],\n",
    "                    \"desc\": \"raw\",\n",
    "                    \"height\": img.shape[0],\n",
    "                    \"width\": img.shape[1]\n",
    "                   }\n",
    "            data.append(item)\n",
    "\n",
    "    random.shuffle(data)\n",
    "    data = pd.DataFrame(data)\n",
    "    data.to_csv(path, index=False, columns=[\"image\", \"label\", \"desc\", \"height\", \"width\"])\n",
    "    print(\"Finish generation\")\n",
    "\n",
    "    return encode_labels(data, 'label', 'target')"
   ]
  },
  {
   "cell_type": "code",
   "execution_count": 2,
   "metadata": {},
   "outputs": [
    {
     "name": "stdout",
     "output_type": "stream",
     "text": [
      "Returning data from file\n",
      "Returning data from file\n",
      "Returning data from file\n"
     ]
    }
   ],
   "source": [
    "initial_train_data = create_data([], \"../train/original.csv\", rebuild=False, test_data=False)\n",
    "train_data = create_data(glob.glob(\"../original/**/*.jpg\"), \"../train/augmented.csv\", rebuild=False, test_data=False)\n",
    "unseen_data = create_data(glob.glob(\"../test/*.jpg\"), \"../test/data.csv\", rebuild=False, test_data=True)"
   ]
  },
  {
   "cell_type": "markdown",
   "metadata": {},
   "source": [
    "### DataExploration"
   ]
  },
  {
   "cell_type": "code",
   "execution_count": 3,
   "metadata": {},
   "outputs": [
    {
     "data": {
      "text/plain": [
       "<matplotlib.axes._subplots.AxesSubplot at 0x7f5db54259e8>"
      ]
     },
     "execution_count": 3,
     "metadata": {},
     "output_type": "execute_result"
    },
    {
     "data": {
      "image/png": "[encoded data removed]",
      "text/plain": [
       "<matplotlib.figure.Figure at 0x7f5db543f400>"
      ]
     },
     "metadata": {},
     "output_type": "display_data"
    }
   ],
   "source": [
    "initial_train_data[\"label\"].value_counts().plot(\n",
    "                                  kind='bar',figsize=(10,5),\n",
    "                                  title='Cervix Type distribution')"
   ]
  },
  {
   "cell_type": "code",
   "execution_count": 4,
   "metadata": {},
   "outputs": [
    {
     "data": {
      "text/plain": [
       "<matplotlib.axes._subplots.AxesSubplot at 0x7f5db537e1d0>"
      ]
     },
     "execution_count": 4,
     "metadata": {},
     "output_type": "execute_result"
    },
    {
     "data": {
      "image/png": "[encoded data removed]",
      "text/plain": [
       "<matplotlib.figure.Figure at 0x7f5db52b7668>"
      ]
     },
     "metadata": {},
     "output_type": "display_data"
    }
   ],
   "source": [
    "initial_train_data[\"width\"].value_counts().plot(kind='bar',figsize=(10,5), title='Width pixel distribution')"
   ]
  },
  {
   "cell_type": "code",
   "execution_count": 5,
   "metadata": {},
   "outputs": [
    {
     "data": {
      "text/plain": [
       "<matplotlib.axes._subplots.AxesSubplot at 0x7f5db51dbac8>"
      ]
     },
     "execution_count": 5,
     "metadata": {},
     "output_type": "execute_result"
    },
    {
     "data": {
      "image/png": "[encoded data removed]",
      "text/plain": [
       "<matplotlib.figure.Figure at 0x7f5db51e9208>"
      ]
     },
     "metadata": {},
     "output_type": "display_data"
    }
   ],
   "source": [
    "initial_train_data[\"height\"].value_counts().plot(kind='bar',figsize=(10,5), title='Height pixel distribution')"
   ]
  },
  {
   "cell_type": "markdown",
   "metadata": {},
   "source": [
    "### Below unseem data label counting"
   ]
  },
  {
   "cell_type": "code",
   "execution_count": 6,
   "metadata": {},
   "outputs": [
    {
     "name": "stdout",
     "output_type": "stream",
     "text": [
      "type1 87, type2 265, type3 160, Total(512).\n"
     ]
    }
   ],
   "source": [
    "label1 = unseen_data[unseen_data[\"label\"]==\"Type_1\"]\n",
    "label2 = unseen_data[unseen_data[\"label\"]==\"Type_2\"]\n",
    "label3 = unseen_data[unseen_data[\"label\"]==\"Type_3\"]\n",
    "print(\"type1 {}, type2 {}, type3 {}, Total({}).\".format(label1.shape[0], label2.shape[0], label3.shape[0], (label1.shape[0]+label2.shape[0]+label3.shape[0])))"
   ]
  },
  {
   "cell_type": "markdown",
   "metadata": {},
   "source": [
    "### Below initial train data label counting"
   ]
  },
  {
   "cell_type": "code",
   "execution_count": 7,
   "metadata": {},
   "outputs": [
    {
     "name": "stdout",
     "output_type": "stream",
     "text": [
      "type1 1438, type2 4346, type3 2426, Total(8210).\n"
     ]
    }
   ],
   "source": [
    "label1 = initial_train_data[initial_train_data[\"label\"]==\"Type_1\"]\n",
    "label2 = initial_train_data[initial_train_data[\"label\"]==\"Type_2\"]\n",
    "label3 = initial_train_data[initial_train_data[\"label\"]==\"Type_3\"]\n",
    "print(\"type1 {}, type2 {}, type3 {}, Total({}).\".format(label1.shape[0], label2.shape[0], label3.shape[0], (label1.shape[0]+label2.shape[0]+label3.shape[0])))"
   ]
  },
  {
   "cell_type": "markdown",
   "metadata": {},
   "source": [
    "### Below augmented training data label counting"
   ]
  },
  {
   "cell_type": "code",
   "execution_count": 8,
   "metadata": {},
   "outputs": [
    {
     "name": "stdout",
     "output_type": "stream",
     "text": [
      "type1 4316, type2 4346, type3 4843, Total(13505).\n"
     ]
    }
   ],
   "source": [
    "label1 = train_data[train_data[\"label\"]==\"Type_1\"]\n",
    "label2 = train_data[train_data[\"label\"]==\"Type_2\"]\n",
    "label3 = train_data[train_data[\"label\"]==\"Type_3\"]\n",
    "print(\"type1 {}, type2 {}, type3 {}, Total({}).\".format(label1.shape[0], label2.shape[0], label3.shape[0], (label1.shape[0]+label2.shape[0]+label3.shape[0])))"
   ]
  },
  {
   "cell_type": "code",
   "execution_count": 9,
   "metadata": {},
   "outputs": [],
   "source": [
    "llabel1 = label1.index.tolist()\n",
    "llabel2 = label2.index.tolist()\n",
    "llabel3 = label3.index.tolist()"
   ]
  },
  {
   "cell_type": "code",
   "execution_count": 10,
   "metadata": {},
   "outputs": [],
   "source": [
    "train_even_index = llabel1[:4300] + llabel2[:4300] + llabel3[:4300]\n",
    "random.shuffle(train_even_index)"
   ]
  },
  {
   "cell_type": "code",
   "execution_count": 11,
   "metadata": {},
   "outputs": [
    {
     "name": "stderr",
     "output_type": "stream",
     "text": [
      "/home/ubuntu/miniconda3/envs/carnd-term1/lib/python3.5/site-packages/ipykernel_launcher.py:1: DeprecationWarning: \n",
      ".ix is deprecated. Please use\n",
      ".loc for label based indexing or\n",
      ".iloc for positional indexing\n",
      "\n",
      "See the documentation here:\n",
      "http://pandas.pydata.org/pandas-docs/stable/indexing.html#ix-indexer-is-deprecated\n",
      "  \"\"\"Entry point for launching an IPython kernel.\n"
     ]
    },
    {
     "data": {
      "text/plain": [
       "(12900, 6)"
      ]
     },
     "execution_count": 11,
     "metadata": {},
     "output_type": "execute_result"
    }
   ],
   "source": [
    "train_data = train_data.ix[train_even_index].reset_index(drop=True)\n",
    "data = train_data\n",
    "data.shape\n"
   ]
  },
  {
   "cell_type": "code",
   "execution_count": 12,
   "metadata": {},
   "outputs": [
    {
     "data": {
      "text/plain": [
       "<matplotlib.axes._subplots.AxesSubplot at 0x7f5db51ec7b8>"
      ]
     },
     "execution_count": 12,
     "metadata": {},
     "output_type": "execute_result"
    },
    {
     "data": {
      "image/png": "[encoded data removed]",
      "text/plain": [
       "<matplotlib.figure.Figure at 0x7f5db51972b0>"
      ]
     },
     "metadata": {},
     "output_type": "display_data"
    }
   ],
   "source": [
    "data[\"label\"].value_counts().plot(kind='bar',figsize=(10,5))"
   ]
  },
  {
   "cell_type": "markdown",
   "metadata": {},
   "source": [
    "###### Data discussion\n",
    "\n",
    "1481 examples looks like not enough, type 1 and type 3 needs more examples to have a even data labels. Fist step will be create basic LetNet model with this setup. Then improve data. "
   ]
  },
  {
   "cell_type": "markdown",
   "metadata": {},
   "source": [
    "# Implementation "
   ]
  },
  {
   "cell_type": "code",
   "execution_count": 13,
   "metadata": {},
   "outputs": [],
   "source": [
    "def debug_images(img1, img2, title1, title2, figsize=(8,4)):\n",
    "    \"\"\"\n",
    "    Debug image by showing a set the titles\n",
    "    \"\"\"\n",
    "    f, (ax1, ax2) = plt.subplots(1, 2, figsize=figsize)\n",
    "    f.tight_layout()\n",
    "\n",
    "    ax1.imshow(img1, cmap='gray')\n",
    "    ax1.set_title(title1, fontsize=11)\n",
    "\n",
    "    ax2.imshow(img2, cmap='gray')\n",
    "    ax2.set_title(title2, fontsize=11)\n",
    "    plt.subplots_adjust(left=0., right=1, top=0.9, bottom=0.)"
   ]
  },
  {
   "cell_type": "code",
   "execution_count": 14,
   "metadata": {},
   "outputs": [],
   "source": [
    "def resize_image(img, size=(820, 620), debug=False):\n",
    "    \"\"\"\n",
    "    resize image and return it\n",
    "    \"\"\"\n",
    "    h = size[0]\n",
    "    w = size[1]\n",
    "    img_ = cv2.resize(img, (w, h))\n",
    "    if debug:\n",
    "        debug_images(img, img_, \"old shape {}\".format(img.shape), \"new shape {}\".format(img_.shape))\n",
    "    return img_"
   ]
  },
  {
   "cell_type": "code",
   "execution_count": 15,
   "metadata": {},
   "outputs": [],
   "source": [
    "def scale_image(img):\n",
    "    return img / 255.0 - 0.5"
   ]
  },
  {
   "cell_type": "code",
   "execution_count": 16,
   "metadata": {},
   "outputs": [],
   "source": [
    "def generator(samples,batch_size=128):\n",
    "    \"\"\"\n",
    "    Generates random batches of data base on image path\n",
    "    \"\"\"\n",
    "\n",
    "    num_samples = len(samples)\n",
    "    while True:\n",
    "        randomsamples = samples.sample(frac=1)\n",
    "        for offset in range(0, num_samples, batch_size):\n",
    "            batch_samples = samples[offset:offset+batch_size]\n",
    "            \n",
    "            images = []\n",
    "            labels = []\n",
    "            for _, row in batch_samples.iterrows():\n",
    "                image_path = row['image'].strip()\n",
    "\n",
    "                image = cv2.imread(image_path)\n",
    "\n",
    "                label = row['target']\n",
    "\n",
    "                images.append(lambda_layer(image))\n",
    "                labels.append(label)\n",
    "\n",
    "            X_train = np.array(images)\n",
    "            y_train = np.array(labels)\n",
    "\n",
    "            yield sklearn.utils.shuffle(X_train, y_train)"
   ]
  },
  {
   "cell_type": "code",
   "execution_count": 17,
   "metadata": {},
   "outputs": [
    {
     "name": "stdout",
     "output_type": "stream",
     "text": [
      "(2,)\n",
      "(693, 520, 3)\n"
     ]
    }
   ],
   "source": [
    "def lambda_layer(x):\n",
    "    return x\n",
    "H_IMG, W_IMG = (32,32)\n",
    "gentest = generator(data, batch_size=2)\n",
    "t  = next(gentest)\n",
    "print(t[1].shape)\n",
    "print(t[0][1].shape)"
   ]
  },
  {
   "cell_type": "code",
   "execution_count": 18,
   "metadata": {},
   "outputs": [
    {
     "data": {
      "text/plain": [
       "<matplotlib.image.AxesImage at 0x7f5db2fc7a58>"
      ]
     },
     "execution_count": 18,
     "metadata": {},
     "output_type": "execute_result"
    },
    {
     "data": {
      "image/png": "[encoded data removed]",
      "text/plain": [
       "<matplotlib.figure.Figure at 0x7f5db2fc7ef0>"
      ]
     },
     "metadata": {},
     "output_type": "display_data"
    }
   ],
   "source": [
    "index = random.randint(0, len(data))\n",
    "img = mpimg.imread(data[\"image\"][index]) \n",
    "img.shape\n",
    "plt.imshow(t[0][1][:,:,0], cmap=\"gray\")\n",
    "plt.imshow(img)"
   ]
  },
  {
   "cell_type": "markdown",
   "metadata": {},
   "source": [
    "### Training and Test  helper methods"
   ]
  },
  {
   "cell_type": "code",
   "execution_count": 19,
   "metadata": {},
   "outputs": [],
   "source": [
    "def training_validation(name_model, train_gen, val_gen, train_steps, val_steps, train_op, accuracy_op, saver,\n",
    "                        train_opts={}, dict_ops={}, old_train=False, old_model='', store=False,\n",
    "                        epochs=3):\n",
    "    \"\"\"\n",
    "    Train a model, store the model in disk and return the path\n",
    "    \"\"\"\n",
    "\n",
    "    return_data = {\n",
    "       'save_path': './'+name_model\n",
    "    }\n",
    "\n",
    "    with tf.Session() as sess:\n",
    "        if old_train:\n",
    "            if not os.path.exists('./'+old_model+\".index\"):\n",
    "                print(old_model, \"Model does not exists in disk\")\n",
    "                return return_data\n",
    "            saver.restore(sess, './'+old_model)\n",
    "        else:\n",
    "            sess.run(tf.global_variables_initializer())\n",
    "\n",
    "        print(name_model, \"Training...\")\n",
    "        print()\n",
    "\n",
    "        for i in range(epochs):\n",
    "            for step in range(0, train_steps):\n",
    "                batch_x, batch_y = next(train_gen)\n",
    "\n",
    "                sess.run(train_op, feed_dict={**{x: batch_x, y: batch_y}, **train_opts })\n",
    "            \n",
    "            train_accu = evaluate(sess, train_gen, train_steps, accuracy_op, dict_opts=dict_ops)\n",
    "            val_accu = evaluate(sess, val_gen, val_steps, accuracy_op, dict_opts=dict_ops)\n",
    "\n",
    "            #Save trainning per epoch\n",
    "            saver.save(sess, './'+name_model+str(i+1))\n",
    "            print(\"EPOCH {} ...\".format(i+1))\n",
    "            print(\"Train Accuracy = {:.3f}\".format(train_accu))\n",
    "            print(\"Validation Accuracy = {:.3f}\".format(val_accu))\n",
    "            print()\n",
    "\n",
    "\n",
    "            \n",
    "        if store:\n",
    "            saver.save(sess, return_data['save_path'])\n",
    "            print(name_model, \"Model saved\")\n",
    "        \n",
    "    return return_data\n",
    "\n",
    "def test_model(test_gen, test_steps, accuracy_op, saver, dict_opts={}, name_model=\".\"):\n",
    "    \"\"\"\n",
    "    Test a saved model with test data\n",
    "    \"\"\"\n",
    "    if not os.path.exists(name_model+\".index\"):\n",
    "        print(name_model, \"Model does not exists in disk\")\n",
    "        return False\n",
    "    with tf.Session() as sess:\n",
    "        saver.restore(sess, name_model)\n",
    "        test_accuracy = evaluate(sess, test_gen, test_steps, accuracy_op, dict_opts=dict_opts )\n",
    "        print(\"Test Accuracy = {:.3f}\".format(test_accuracy))\n",
    "\n",
    "def evaluate(sess, generator, steps, accuracy_op, dict_opts={}):\n",
    "    \"\"\"\n",
    "    Evaluate accuracy operation in data from a generator\n",
    "    \"\"\"\n",
    "    total_examples = 0\n",
    "    total_accuracy = 0\n",
    "\n",
    "    for step in range(0, steps):\n",
    "        batch_x, batch_y = next(generator)\n",
    "        accuracy = sess.run(accuracy_op, feed_dict={ **{ x: batch_x, y: batch_y }, **dict_opts})\n",
    "        num_examples = len(batch_x)\n",
    "        total_accuracy += (accuracy * num_examples)\n",
    "        total_examples += num_examples\n",
    "    return total_accuracy / total_examples\n",
    "\n",
    "\n",
    "def predict(example):\n",
    "    sess = tf.get_default_session()\n",
    "    softmax = sess.run(tf.nn.softmax(logits), feed_dict={x: example, keep_prob: 1.0 })\n",
    "    return tf.argmax(softmax, 1), softmax\n",
    "\n",
    "def test_on_unseen_data(model_name, frac=0.2, debug=False, probs=False, data_=None):\n",
    "    \"\"\"\n",
    "    The given model is evaluated on unseem test data\n",
    "    prints the accuracy\n",
    "    \"\"\"\n",
    "    if data_ is not None:\n",
    "        test_frac = data_\n",
    "    else:\n",
    "        test_frac = unseen_data.sample(frac=frac)\n",
    "\n",
    "    evaluation_test_images = []\n",
    "    for _, row in test_frac.iterrows():\n",
    "        im = cv2.imread(row[\"image\"])\n",
    "        evaluation_test_images.append((im, row[\"target\"]))\n",
    "\n",
    "    assert(len(evaluation_test_images) == len(test_frac))\n",
    "\n",
    "    softmax_test_images = []\n",
    "    accuracy_list = []\n",
    "    saver = tf.train.Saver()\n",
    "    misclass = {0: {0: 0, 1: 0, 2: 0}, 1: {0: 0, 1: 0, 2: 0}, 2: {0: 0, 1: 0, 2: 0} }\n",
    "\n",
    "    with tf.Session() as sess:\n",
    "        saver.restore(sess, model_name)\n",
    "        print(\"Evaluating on unseem data:\", model_name)\n",
    "        for (image_, class_) in evaluation_test_images:\n",
    "            if debug:\n",
    "                print(\"image_name = {}\".format(class_))\n",
    "            sign_id, softmax = predict([lambda_layer(image_)])\n",
    "            softmax_test_images.append((softmax, class_))\n",
    "            predicted_class = sign_id.eval()[0]\n",
    "            expected_class = int(class_)\n",
    "            if predicted_class != expected_class:\n",
    "                misclass[expected_class][predicted_class] +=1\n",
    "            accuracy_list.append(int(predicted_class == expected_class))\n",
    "            if debug:\n",
    "                print(\"predicted class id = {}\".format(predicted_class ) )\n",
    "                print()\n",
    "\n",
    "        accuracy = round(sum(accuracy_list)/float(len(accuracy_list))*100, 2)\n",
    "\n",
    "        if probs:\n",
    "            print()\n",
    "            print()\n",
    "            for (probs, image_name) in softmax_test_images:\n",
    "                print(image_name)\n",
    "                for i, e in enumerate(probs[0]):\n",
    "                    class_id = i + 1\n",
    "                    print(\"Type\", class_id, \"probability:\", round(e,3))\n",
    "                print()\n",
    "\n",
    "        print(\"unseem accuary is:\", str(accuracy)+\"%\")\n",
    "        print(\"misclassification:\", misclass)\n",
    "        print(\"Type 1:\", sum([v[0] for (k, v) in misclass.items()]))\n",
    "        print(\"Type 2:\", sum([v[1] for (k, v) in misclass.items()]))\n",
    "        print(\"Type 3:\", sum([v[2] for (k, v) in misclass.items()]))\n"
   ]
  },
  {
   "cell_type": "markdown",
   "metadata": {},
   "source": [
    "### Data for experiments"
   ]
  },
  {
   "cell_type": "code",
   "execution_count": 20,
   "metadata": {},
   "outputs": [],
   "source": [
    "BATCH_SIZE = 128\n",
    "cached = True\n",
    "if cached:\n",
    "    train_samples = pd.read_csv(\"../train/train_samples.csv\")\n",
    "    validation_samples = pd.read_csv(\"../train/validation_samples.csv\")\n",
    "    test_samples = pd.read_csv(\"../train/test_samples.csv\")\n",
    "else:\n",
    "    train_samples, validation_samples = train_test_split(data, test_size=0.4)\n",
    "    validation_samples, test_samples  = train_test_split(validation_samples, test_size=0.3)\n",
    "\n",
    "\n",
    "train_generator = generator(train_samples, batch_size=BATCH_SIZE)\n",
    "validation_generator = generator(validation_samples, batch_size=BATCH_SIZE)\n",
    "test_generator = generator(test_samples, batch_size=BATCH_SIZE)\n",
    "\n",
    "train_steps      = math.ceil(len(train_samples)/BATCH_SIZE)\n",
    "validation_steps = math.ceil(len(validation_samples)/BATCH_SIZE)\n",
    "test_steps       = math.ceil(len(test_samples)/BATCH_SIZE)\n",
    "\n",
    "random_tests = pd.DataFrame([\n",
    "    { \"image\": \"../random_selected_test/original/90.jpg\", \"label\": \"Type_1\", \"target\": 0},\n",
    "    { \"image\": \"../random_selected_test/original/232.jpg\", \"label\": \"Type_1\", \"target\": 0},\n",
    "    { \"image\": \"../random_selected_test/original/315.jpg\", \"label\": \"Type_2\", \"target\": 1},\n",
    "    { \"image\": \"../random_selected_test/original/206.jpg\", \"label\": \"Type_2\", \"target\": 1},\n",
    "    { \"image\": \"../random_selected_test/original/418.jpg\", \"label\": \"Type_3\", \"target\": 2},\n",
    "    { \"image\": \"../random_selected_test/original/49.jpg\", \"label\": \"Type_3\", \"target\": 2}\n",
    "])\n",
    "\n",
    "random_tests_transform = pd.DataFrame([\n",
    "    { \"image\": \"../random_selected_test/transformations/90__noise0.06.jpg\", \"label\": \"Type_1\", \"target\": 0},\n",
    "    { \"image\": \"../random_selected_test/transformations/232__noise0.06.jpg\", \"label\": \"Type_1\", \"target\": 0},\n",
    "    { \"image\": \"../random_selected_test/transformations/315__noise0.06.jpg\", \"label\": \"Type_2\", \"target\": 1},\n",
    "    { \"image\": \"../random_selected_test/transformations/206__noise0.06.jpg\", \"label\": \"Type_2\", \"target\": 1},\n",
    "    { \"image\": \"../random_selected_test/transformations/418__noise0.06.jpg\", \"label\": \"Type_3\", \"target\": 2},\n",
    "    { \"image\": \"../random_selected_test/transformations/49__noise0.06.jpg\", \"label\": \"Type_3\", \"target\": 2}\n",
    "])"
   ]
  },
  {
   "cell_type": "code",
   "execution_count": 21,
   "metadata": {},
   "outputs": [],
   "source": [
    "# train_samples.to_csv(\"../train/train_samples.csv\", index=False)\n",
    "# validation_samples.to_csv(\"../train/validation_samples.csv\", index=False)\n",
    "# test_samples.to_csv(\"../train/test_samples.csv\", index=False)"
   ]
  },
  {
   "cell_type": "markdown",
   "metadata": {},
   "source": [
    "## Base line model - LeNet-5\n",
    "\n",
    "This is lenet-5 base line model, just with de output layer modified to 3 classes. "
   ]
  },
  {
   "cell_type": "code",
   "execution_count": 90,
   "metadata": {},
   "outputs": [],
   "source": [
    "H_IMG, W_IMG = (32,32)\n",
    "EPOCHS = 15\n",
    "rate = 0.01\n",
    "\n",
    "from tensorflow.contrib.layers import flatten\n",
    "def lambda_layer(image):\n",
    "    img_ = np.copy(image)\n",
    "    img_ = resize_image(img_, (H_IMG, W_IMG))\n",
    "    img_ = cv2.cvtColor(img_, cv2.COLOR_BGR2GRAY)\n",
    "    img_ = img_[:, :, np.newaxis]\n",
    "    img_ = scale_image(img_)\n",
    "    return img_\n",
    "\n",
    "def LeNet5(x, init_channels=1, fc0_len=400):    \n",
    "    mu = 0\n",
    "    sigma = 0.1\n",
    "    \n",
    "    conv1_W = tf.Variable(tf.truncated_normal(shape=(5, 5, init_channels, 6), mean = mu, stddev = sigma))\n",
    "    conv1_b = tf.Variable(tf.zeros(6))\n",
    "    conv1   = tf.nn.conv2d(x, conv1_W, strides=[1, 1, 1, 1], padding='VALID') + conv1_b\n",
    "\n",
    "    conv1 = tf.nn.relu(conv1)\n",
    "\n",
    "    conv1 = tf.nn.max_pool(conv1, ksize=[1, 2, 2, 1], strides=[1, 2, 2, 1], padding='VALID')\n",
    "\n",
    "    conv2_W = tf.Variable(tf.truncated_normal(shape=(5, 5, 6, 16), mean = mu, stddev = sigma))\n",
    "    conv2_b = tf.Variable(tf.zeros(16))\n",
    "    conv2   = tf.nn.conv2d(conv1, conv2_W, strides=[1, 1, 1, 1], padding='VALID') + conv2_b\n",
    "    \n",
    "    conv2 = tf.nn.relu(conv2)\n",
    "\n",
    "    conv2 = tf.nn.max_pool(conv2, ksize=[1, 2, 2, 1], strides=[1, 2, 2, 1], padding='VALID')\n",
    "\n",
    "    fc0   = flatten(conv2)\n",
    "\n",
    "    fc1_W = tf.Variable(tf.truncated_normal(shape=(fc0_len, 120), mean = mu, stddev = sigma))\n",
    "    fc1_b = tf.Variable(tf.zeros(120))\n",
    "    fc1   = tf.matmul(fc0, fc1_W) + fc1_b\n",
    "    fc1   = tf.nn.relu(fc1)\n",
    "\n",
    "    fc2_W  = tf.Variable(tf.truncated_normal(shape=(120, 84), mean = mu, stddev = sigma))\n",
    "    fc2_b  = tf.Variable(tf.zeros(84))\n",
    "    fc2    = tf.matmul(fc1, fc2_W) + fc2_b\n",
    "    \n",
    "    fc2    = tf.nn.relu(fc2)\n",
    "\n",
    "    fc3_W  = tf.Variable(tf.truncated_normal(shape=(84, 3), mean = mu, stddev = sigma))\n",
    "    fc3_b  = tf.Variable(tf.zeros(3))\n",
    "    logits = tf.matmul(fc2, fc3_W) + fc3_b\n",
    "\n",
    "    return logits"
   ]
  },
  {
   "cell_type": "code",
   "execution_count": 94,
   "metadata": {},
   "outputs": [],
   "source": [
    "tf.reset_default_graph()\n",
    "x = tf.placeholder(tf.float32, (None, 32, 32, 1))\n",
    "y = tf.placeholder(tf.int32, (None))\n",
    "keep_prob = tf.placeholder(tf.float32)\n",
    "one_hot_y = tf.one_hot(y, 3)\n",
    "\n",
    "logits = LeNet5(x)\n",
    "cross_entropy = tf.nn.softmax_cross_entropy_with_logits(logits=logits, labels=one_hot_y)\n",
    "loss_operation = tf.reduce_mean(cross_entropy)\n",
    "optimizer = tf.train.AdamOptimizer(learning_rate=rate)\n",
    "training_operation = optimizer.minimize(loss_operation)\n",
    "correct_prediction = tf.equal(tf.argmax(logits, 1), tf.argmax(one_hot_y, 1))\n",
    "accuracy_operation = tf.reduce_mean(tf.cast(correct_prediction, tf.float32))"
   ]
  },
  {
   "cell_type": "markdown",
   "metadata": {},
   "source": [
    "#### Base Model LeNet-5 Train and Evaluation"
   ]
  },
  {
   "cell_type": "code",
   "execution_count": 92,
   "metadata": {},
   "outputs": [
    {
     "name": "stdout",
     "output_type": "stream",
     "text": [
      "lenet5_base_model Training...\n",
      "\n",
      "EPOCH 1 ...\n",
      "Train Accuracy = 0.498\n",
      "Validation Accuracy = 0.506\n",
      "\n",
      "EPOCH 2 ...\n",
      "Train Accuracy = 0.520\n",
      "Validation Accuracy = 0.504\n",
      "\n",
      "EPOCH 3 ...\n",
      "Train Accuracy = 0.541\n",
      "Validation Accuracy = 0.526\n",
      "\n",
      "EPOCH 4 ...\n",
      "Train Accuracy = 0.564\n",
      "Validation Accuracy = 0.538\n",
      "\n",
      "EPOCH 5 ...\n",
      "Train Accuracy = 0.584\n",
      "Validation Accuracy = 0.547\n",
      "\n",
      "EPOCH 6 ...\n",
      "Train Accuracy = 0.579\n",
      "Validation Accuracy = 0.550\n",
      "\n",
      "EPOCH 7 ...\n",
      "Train Accuracy = 0.600\n",
      "Validation Accuracy = 0.560\n",
      "\n",
      "EPOCH 8 ...\n",
      "Train Accuracy = 0.621\n",
      "Validation Accuracy = 0.566\n",
      "\n",
      "EPOCH 9 ...\n",
      "Train Accuracy = 0.625\n",
      "Validation Accuracy = 0.559\n",
      "\n",
      "EPOCH 10 ...\n",
      "Train Accuracy = 0.624\n",
      "Validation Accuracy = 0.558\n",
      "\n",
      "EPOCH 11 ...\n",
      "Train Accuracy = 0.627\n",
      "Validation Accuracy = 0.553\n",
      "\n",
      "EPOCH 12 ...\n",
      "Train Accuracy = 0.627\n",
      "Validation Accuracy = 0.557\n",
      "\n",
      "EPOCH 13 ...\n",
      "Train Accuracy = 0.655\n",
      "Validation Accuracy = 0.553\n",
      "\n",
      "EPOCH 14 ...\n",
      "Train Accuracy = 0.644\n",
      "Validation Accuracy = 0.551\n",
      "\n",
      "EPOCH 15 ...\n",
      "Train Accuracy = 0.653\n",
      "Validation Accuracy = 0.544\n",
      "\n",
      "lenet5_base_model Model saved\n",
      "INFO:tensorflow:Restoring parameters from ./lenet5_base_model\n",
      "Test Accuracy = 0.543\n"
     ]
    }
   ],
   "source": [
    "saver = tf.train.Saver()\n",
    "lenet_5_base_model_data = training_validation('lenet5_base_model', train_generator, validation_generator,\n",
    "                                   train_steps, validation_steps, training_operation,\n",
    "                                   accuracy_operation, saver, train_opts={}, dict_ops={},\n",
    "                                   old_train=False, store=True, epochs=EPOCHS)\n",
    "\n",
    "test_model(test_generator, test_steps, accuracy_operation, saver, dict_opts={}, name_model=lenet_5_base_model_data['save_path'])"
   ]
  },
  {
   "cell_type": "code",
   "execution_count": 95,
   "metadata": {},
   "outputs": [
    {
     "name": "stdout",
     "output_type": "stream",
     "text": [
      "INFO:tensorflow:Restoring parameters from ./lenet5_base_model\n",
      "Evaluating on unseem data: ./lenet5_base_model\n",
      "unseem accuary is: 50.98%\n",
      "misclassification: {0: {0: 0, 1: 48, 2: 21}, 1: {0: 38, 1: 0, 2: 49}, 2: {0: 11, 1: 84, 2: 0}}\n",
      "Type 1: 49\n",
      "Type 2: 132\n",
      "Type 3: 70\n"
     ]
    }
   ],
   "source": [
    "test_on_unseen_data(lenet_5_base_model_data['save_path'], frac=1.0, debug=False, probs=False)"
   ]
  },
  {
   "cell_type": "code",
   "execution_count": 96,
   "metadata": {},
   "outputs": [
    {
     "name": "stdout",
     "output_type": "stream",
     "text": [
      "INFO:tensorflow:Restoring parameters from ./lenet5_base_model\n",
      "Evaluating on unseem data: ./lenet5_base_model\n",
      "\n",
      "\n",
      "0\n",
      "Type 1 probability: 0.001\n",
      "Type 2 probability: 0.859\n",
      "Type 3 probability: 0.14\n",
      "\n",
      "0\n",
      "Type 1 probability: 0.181\n",
      "Type 2 probability: 0.436\n",
      "Type 3 probability: 0.383\n",
      "\n",
      "1\n",
      "Type 1 probability: 0.393\n",
      "Type 2 probability: 0.326\n",
      "Type 3 probability: 0.281\n",
      "\n",
      "1\n",
      "Type 1 probability: 0.285\n",
      "Type 2 probability: 0.426\n",
      "Type 3 probability: 0.289\n",
      "\n",
      "2\n",
      "Type 1 probability: 0.361\n",
      "Type 2 probability: 0.005\n",
      "Type 3 probability: 0.633\n",
      "\n",
      "2\n",
      "Type 1 probability: 0.175\n",
      "Type 2 probability: 0.423\n",
      "Type 3 probability: 0.402\n",
      "\n",
      "unseem accuary is: 33.33%\n",
      "misclassification: {0: {0: 0, 1: 2, 2: 0}, 1: {0: 1, 1: 0, 2: 0}, 2: {0: 0, 1: 1, 2: 0}}\n",
      "Type 1: 1\n",
      "Type 2: 3\n",
      "Type 3: 0\n",
      "INFO:tensorflow:Restoring parameters from ./lenet5_base_model\n",
      "Evaluating on unseem data: ./lenet5_base_model\n",
      "\n",
      "\n",
      "0\n",
      "Type 1 probability: 0.002\n",
      "Type 2 probability: 0.908\n",
      "Type 3 probability: 0.09\n",
      "\n",
      "0\n",
      "Type 1 probability: 0.595\n",
      "Type 2 probability: 0.216\n",
      "Type 3 probability: 0.19\n",
      "\n",
      "1\n",
      "Type 1 probability: 0.513\n",
      "Type 2 probability: 0.432\n",
      "Type 3 probability: 0.056\n",
      "\n",
      "1\n",
      "Type 1 probability: 0.299\n",
      "Type 2 probability: 0.427\n",
      "Type 3 probability: 0.273\n",
      "\n",
      "2\n",
      "Type 1 probability: 0.332\n",
      "Type 2 probability: 0.015\n",
      "Type 3 probability: 0.653\n",
      "\n",
      "2\n",
      "Type 1 probability: 0.163\n",
      "Type 2 probability: 0.432\n",
      "Type 3 probability: 0.405\n",
      "\n",
      "unseem accuary is: 50.0%\n",
      "misclassification: {0: {0: 0, 1: 1, 2: 0}, 1: {0: 1, 1: 0, 2: 0}, 2: {0: 0, 1: 1, 2: 0}}\n",
      "Type 1: 1\n",
      "Type 2: 2\n",
      "Type 3: 0\n"
     ]
    }
   ],
   "source": [
    "test_on_unseen_data(\"./lenet5_base_model\", data_=random_tests, debug=False, probs=True)\n",
    "test_on_unseen_data(\"./lenet5_base_model\", data_=random_tests_transform, debug=False, probs=True)"
   ]
  },
  {
   "cell_type": "markdown",
   "metadata": {},
   "source": [
    "## LeNet-5"
   ]
  },
  {
   "cell_type": "code",
   "execution_count": 23,
   "metadata": {},
   "outputs": [],
   "source": [
    "from tensorflow.contrib.layers import flatten\n",
    "def LeNet5_dropout(x, init_channels=1, fc0_len=400):    \n",
    "    mu = 0\n",
    "    sigma = 0.1\n",
    "    \n",
    "    conv1_W = tf.Variable(tf.truncated_normal(shape=(5, 5, init_channels, 6), mean = mu, stddev = sigma))\n",
    "    conv1_b = tf.Variable(tf.zeros(6))\n",
    "    conv1   = tf.nn.conv2d(x, conv1_W, strides=[1, 1, 1, 1], padding='VALID') + conv1_b\n",
    "\n",
    "    conv1 = tf.nn.relu(conv1)\n",
    "\n",
    "    conv1 = tf.nn.max_pool(conv1, ksize=[1, 4, 4, 1], strides=[1, 2, 2, 1], padding='VALID')\n",
    "\n",
    "    conv2_W = tf.Variable(tf.truncated_normal(shape=(5, 5, 6, 16), mean = mu, stddev = sigma))\n",
    "    conv2_b = tf.Variable(tf.zeros(16))\n",
    "    conv2   = tf.nn.conv2d(conv1, conv2_W, strides=[1, 1, 1, 1], padding='VALID') + conv2_b\n",
    "    \n",
    "    conv2 = tf.nn.relu(conv2)\n",
    "\n",
    "    conv2 = tf.nn.max_pool(conv2, ksize=[1, 8, 8, 1], strides=[1, 2, 2, 1], padding='VALID')\n",
    "\n",
    "    fc0   = flatten(conv2)\n",
    "\n",
    "    fc1_W = tf.Variable(tf.truncated_normal(shape=(fc0_len, 1000), mean = mu, stddev = sigma))\n",
    "    fc1_b = tf.Variable(tf.zeros(1000))\n",
    "    fc1   = tf.matmul(fc0, fc1_W) + fc1_b\n",
    "    fc1   = tf.nn.relu(fc1)\n",
    "    fc1   = tf.nn.dropout(fc1, keep_prob)\n",
    "\n",
    "    fc2_W  = tf.Variable(tf.truncated_normal(shape=(1000, 250), mean = mu, stddev = sigma))\n",
    "    fc2_b  = tf.Variable(tf.zeros(250))\n",
    "    fc2    = tf.matmul(fc1, fc2_W) + fc2_b\n",
    "    \n",
    "    fc2    = tf.nn.relu(fc2)\n",
    "    fc2    = tf.nn.dropout(fc2, keep_prob)\n",
    "\n",
    "    fc3_W  = tf.Variable(tf.truncated_normal(shape=(250, 3), mean = mu, stddev = sigma))\n",
    "    fc3_b  = tf.Variable(tf.zeros(3))\n",
    "    logits = tf.matmul(fc2, fc3_W) + fc3_b\n",
    "\n",
    "    convolutions = { \"conv1\": conv1, \"conv2\": conv2}\n",
    "    return logits, convolutions\n",
    "\n",
    "\n",
    "H_IMG, W_IMG = (155, 155)\n",
    "EPOCHS = 1\n",
    "rate = 0.0008\n",
    "\n",
    "def lambda_layer(image):\n",
    "    img_ = np.copy(image)\n",
    "    img_ = resize_image(img_, (H_IMG, W_IMG))\n",
    "#     img_ = cv2.cvtColor(img_, cv2.COLOR_BGR2YCrCb)\n",
    "    img_ = cv2.cvtColor(img_, cv2.COLOR_BGR2HSV)\n",
    "\n",
    "    img_ = img_[:, :, 0:2]\n",
    "#     img_ = img_[:, :, np.newaxis]\n",
    "    img_ = scale_image(img_)\n",
    "    return img_\n",
    "\n",
    "tf.reset_default_graph()\n",
    "channels = 2\n",
    "x = tf.placeholder(tf.float32, (None, H_IMG, H_IMG, channels))\n",
    "y = tf.placeholder(tf.int32, (None))\n",
    "keep_prob = tf.placeholder(tf.float32)\n",
    "one_hot_y = tf.one_hot(y, 3)\n",
    "\n",
    "logits, convs_lenet5 = LeNet5_dropout(x, init_channels=channels, fc0_len=16384)\n",
    "cross_entropy = tf.nn.softmax_cross_entropy_with_logits(logits=logits, labels=one_hot_y)\n",
    "loss_operation = tf.reduce_mean(cross_entropy)\n",
    "optimizer = tf.train.AdamOptimizer(learning_rate=rate)\n",
    "training_operation = optimizer.minimize(loss_operation)\n",
    "correct_prediction = tf.equal(tf.argmax(logits, 1), tf.argmax(one_hot_y, 1))\n",
    "accuracy_operation = tf.reduce_mean(tf.cast(correct_prediction, tf.float32))\n",
    "\n",
    "saver = tf.train.Saver()\n"
   ]
  },
  {
   "cell_type": "code",
   "execution_count": 22,
   "metadata": {},
   "outputs": [
    {
     "name": "stdout",
     "output_type": "stream",
     "text": [
      "INFO:tensorflow:Restoring parameters from ./lenet5_experiment_ycrcb_cr9\n",
      "lenet5_experiment_ycrcb_cr Training...\n",
      "\n",
      "EPOCH 1 ...\n",
      "Train Accuracy = 0.654\n",
      "Validation Accuracy = 0.627\n",
      "\n",
      "EPOCH 2 ...\n",
      "Train Accuracy = 0.656\n",
      "Validation Accuracy = 0.626\n",
      "\n",
      "EPOCH 3 ...\n",
      "Train Accuracy = 0.673\n",
      "Validation Accuracy = 0.633\n",
      "\n",
      "EPOCH 4 ...\n",
      "Train Accuracy = 0.693\n",
      "Validation Accuracy = 0.643\n",
      "\n",
      "EPOCH 5 ...\n",
      "Train Accuracy = 0.698\n",
      "Validation Accuracy = 0.646\n",
      "\n",
      "EPOCH 6 ...\n",
      "Train Accuracy = 0.716\n",
      "Validation Accuracy = 0.650\n",
      "\n",
      "EPOCH 7 ...\n",
      "Train Accuracy = 0.701\n",
      "Validation Accuracy = 0.648\n",
      "\n",
      "EPOCH 8 ...\n",
      "Train Accuracy = 0.713\n",
      "Validation Accuracy = 0.651\n",
      "\n",
      "EPOCH 9 ...\n",
      "Train Accuracy = 0.716\n",
      "Validation Accuracy = 0.653\n",
      "\n",
      "EPOCH 10 ...\n",
      "Train Accuracy = 0.730\n",
      "Validation Accuracy = 0.648\n",
      "\n",
      "EPOCH 11 ...\n",
      "Train Accuracy = 0.736\n",
      "Validation Accuracy = 0.644\n",
      "\n",
      "EPOCH 12 ...\n",
      "Train Accuracy = 0.746\n",
      "Validation Accuracy = 0.652\n",
      "\n",
      "EPOCH 13 ...\n",
      "Train Accuracy = 0.764\n",
      "Validation Accuracy = 0.654\n",
      "\n",
      "EPOCH 14 ...\n",
      "Train Accuracy = 0.773\n",
      "Validation Accuracy = 0.661\n",
      "\n",
      "EPOCH 15 ...\n",
      "Train Accuracy = 0.769\n",
      "Validation Accuracy = 0.654\n",
      "\n",
      "EPOCH 16 ...\n",
      "Train Accuracy = 0.782\n",
      "Validation Accuracy = 0.660\n",
      "\n",
      "EPOCH 17 ...\n",
      "Train Accuracy = 0.784\n",
      "Validation Accuracy = 0.654\n",
      "\n",
      "EPOCH 18 ...\n",
      "Train Accuracy = 0.805\n",
      "Validation Accuracy = 0.662\n",
      "\n",
      "EPOCH 19 ...\n",
      "Train Accuracy = 0.813\n",
      "Validation Accuracy = 0.661\n",
      "\n",
      "EPOCH 20 ...\n",
      "Train Accuracy = 0.819\n",
      "Validation Accuracy = 0.659\n",
      "\n",
      "EPOCH 21 ...\n",
      "Train Accuracy = 0.829\n",
      "Validation Accuracy = 0.658\n",
      "\n",
      "EPOCH 22 ...\n",
      "Train Accuracy = 0.829\n",
      "Validation Accuracy = 0.666\n",
      "\n",
      "EPOCH 23 ...\n",
      "Train Accuracy = 0.844\n",
      "Validation Accuracy = 0.650\n",
      "\n",
      "EPOCH 24 ...\n",
      "Train Accuracy = 0.848\n",
      "Validation Accuracy = 0.654\n",
      "\n",
      "EPOCH 25 ...\n",
      "Train Accuracy = 0.859\n",
      "Validation Accuracy = 0.661\n",
      "\n",
      "EPOCH 26 ...\n",
      "Train Accuracy = 0.872\n",
      "Validation Accuracy = 0.653\n",
      "\n",
      "EPOCH 27 ...\n",
      "Train Accuracy = 0.876\n",
      "Validation Accuracy = 0.660\n",
      "\n",
      "EPOCH 28 ...\n",
      "Train Accuracy = 0.884\n",
      "Validation Accuracy = 0.667\n",
      "\n",
      "EPOCH 29 ...\n",
      "Train Accuracy = 0.892\n",
      "Validation Accuracy = 0.672\n",
      "\n",
      "EPOCH 30 ...\n",
      "Train Accuracy = 0.884\n",
      "Validation Accuracy = 0.661\n",
      "\n",
      "EPOCH 31 ...\n",
      "Train Accuracy = 0.904\n",
      "Validation Accuracy = 0.671\n",
      "\n",
      "EPOCH 32 ...\n",
      "Train Accuracy = 0.914\n",
      "Validation Accuracy = 0.669\n",
      "\n",
      "EPOCH 33 ...\n",
      "Train Accuracy = 0.918\n",
      "Validation Accuracy = 0.678\n",
      "\n",
      "EPOCH 34 ...\n",
      "Train Accuracy = 0.920\n",
      "Validation Accuracy = 0.684\n",
      "\n",
      "EPOCH 35 ...\n",
      "Train Accuracy = 0.911\n",
      "Validation Accuracy = 0.674\n",
      "\n",
      "EPOCH 36 ...\n",
      "Train Accuracy = 0.923\n",
      "Validation Accuracy = 0.682\n",
      "\n",
      "EPOCH 37 ...\n",
      "Train Accuracy = 0.927\n",
      "Validation Accuracy = 0.679\n",
      "\n",
      "EPOCH 38 ...\n",
      "Train Accuracy = 0.931\n",
      "Validation Accuracy = 0.677\n",
      "\n",
      "EPOCH 39 ...\n",
      "Train Accuracy = 0.933\n",
      "Validation Accuracy = 0.676\n",
      "\n",
      "EPOCH 40 ...\n",
      "Train Accuracy = 0.943\n",
      "Validation Accuracy = 0.679\n",
      "\n",
      "lenet5_experiment_ycrcb_cr Model saved\n"
     ]
    }
   ],
   "source": [
    "lenet_5_data = training_validation('lenet5_experiment_hsv_hs', train_generator, validation_generator,\n",
    "                                   train_steps, validation_steps, training_operation,\n",
    "                                   accuracy_operation, saver, train_opts={keep_prob: 0.2}, dict_ops={keep_prob: 1.0},\n",
    "                                   old_train=True, old_model=\"lenet5_experiment_hsv_hs\", store=True, epochs=EPOCHS)\n"
   ]
  },
  {
   "cell_type": "code",
   "execution_count": 28,
   "metadata": {},
   "outputs": [
    {
     "name": "stdout",
     "output_type": "stream",
     "text": [
      "INFO:tensorflow:Restoring parameters from lenet5_experiment_ycrcb_cr\n",
      "Test Accuracy = 0.671\n"
     ]
    }
   ],
   "source": [
    "test_model(test_generator, test_steps, accuracy_operation, saver, dict_opts={keep_prob: 1.0}, name_model=lenet_5_data['save_path'])"
   ]
  },
  {
   "cell_type": "code",
   "execution_count": 29,
   "metadata": {},
   "outputs": [
    {
     "name": "stdout",
     "output_type": "stream",
     "text": [
      "INFO:tensorflow:Restoring parameters from lenet5_experiment_ycrcb_cr\n",
      "Evaluating on unseem data: lenet5_experiment_ycrcb_cr\n",
      "unseem accuary is: 59.96%\n",
      "misclassification: {0: {0: 0, 1: 41, 2: 10}, 1: {0: 27, 1: 0, 2: 26}, 2: {0: 6, 1: 95, 2: 0}}\n",
      "Type 1: 33\n",
      "Type 2: 136\n",
      "Type 3: 36\n"
     ]
    }
   ],
   "source": [
    "test_on_unseen_data(lenet_5_data['save_path'], frac=1.0, debug=False, probs=False)"
   ]
  },
  {
   "cell_type": "code",
   "execution_count": 69,
   "metadata": {},
   "outputs": [
    {
     "name": "stdout",
     "output_type": "stream",
     "text": [
      "INFO:tensorflow:Restoring parameters from ./lenet5_experiment_hsv_hs\n",
      "Evaluating on unseem data: ./lenet5_experiment_hsv_hs\n",
      "\n",
      "\n",
      "0\n",
      "Type 1 probability: 0.01\n",
      "Type 2 probability: 0.084\n",
      "Type 3 probability: 0.906\n",
      "\n",
      "0\n",
      "Type 1 probability: 0.162\n",
      "Type 2 probability: 0.587\n",
      "Type 3 probability: 0.25\n",
      "\n",
      "1\n",
      "Type 1 probability: 0.0\n",
      "Type 2 probability: 0.999\n",
      "Type 3 probability: 0.0\n",
      "\n",
      "1\n",
      "Type 1 probability: 0.002\n",
      "Type 2 probability: 0.98\n",
      "Type 3 probability: 0.019\n",
      "\n",
      "2\n",
      "Type 1 probability: 0.0\n",
      "Type 2 probability: 0.996\n",
      "Type 3 probability: 0.004\n",
      "\n",
      "2\n",
      "Type 1 probability: 0.0\n",
      "Type 2 probability: 0.994\n",
      "Type 3 probability: 0.006\n",
      "\n",
      "unseem accuary is: 33.33%\n",
      "misclassification: {0: {0: 0, 1: 1, 2: 1}, 1: {0: 0, 1: 0, 2: 0}, 2: {0: 0, 1: 2, 2: 0}}\n",
      "Type 1: 0\n",
      "Type 2: 3\n",
      "Type 3: 1\n",
      "INFO:tensorflow:Restoring parameters from ./lenet5_experiment_hsv_hs\n",
      "Evaluating on unseem data: ./lenet5_experiment_hsv_hs\n",
      "\n",
      "\n",
      "0\n",
      "Type 1 probability: 1.0\n",
      "Type 2 probability: 0.0\n",
      "Type 3 probability: 0.0\n",
      "\n",
      "0\n",
      "Type 1 probability: 1.0\n",
      "Type 2 probability: 0.0\n",
      "Type 3 probability: 0.0\n",
      "\n",
      "1\n",
      "Type 1 probability: 1.0\n",
      "Type 2 probability: 0.0\n",
      "Type 3 probability: 0.0\n",
      "\n",
      "1\n",
      "Type 1 probability: 1.0\n",
      "Type 2 probability: 0.0\n",
      "Type 3 probability: 0.0\n",
      "\n",
      "2\n",
      "Type 1 probability: 1.0\n",
      "Type 2 probability: 0.0\n",
      "Type 3 probability: 0.0\n",
      "\n",
      "2\n",
      "Type 1 probability: 1.0\n",
      "Type 2 probability: 0.0\n",
      "Type 3 probability: 0.0\n",
      "\n",
      "unseem accuary is: 33.33%\n",
      "misclassification: {0: {0: 0, 1: 0, 2: 0}, 1: {0: 2, 1: 0, 2: 0}, 2: {0: 2, 1: 0, 2: 0}}\n",
      "Type 1: 4\n",
      "Type 2: 0\n",
      "Type 3: 0\n"
     ]
    }
   ],
   "source": [
    "test_on_unseen_data(\"./lenet5_experiment_hsv_hs\", data_=random_tests, debug=False, probs=True)\n",
    "test_on_unseen_data(\"./lenet5_experiment_hsv_hs\", data_=random_tests_transform, debug=False, probs=True)"
   ]
  },
  {
   "cell_type": "markdown",
   "metadata": {},
   "source": [
    "# Alex Net Pretrained"
   ]
  },
  {
   "cell_type": "code",
   "execution_count": 35,
   "metadata": {},
   "outputs": [],
   "source": [
    "from alexnet import AlexNet\n",
    "\n",
    "nb_classes = 3\n",
    "EPOCHS = 20\n",
    "batch_size = 64\n",
    "BATCH_SIZE = 64\n",
    "rate = 0.0008\n",
    "H_IMG, W_IMG = (227, 227)\n",
    "\n",
    "\n",
    "####refactor\n",
    "tf.reset_default_graph()\n",
    "x = tf.placeholder(tf.float32, (None, H_IMG, W_IMG, 3))\n",
    "y = tf.placeholder(tf.int64, None)\n",
    "keep_prob = tf.placeholder(tf.float32)\n",
    "# resized = tf.image.resize_images(x, (227, 227))\n",
    "\n",
    "\n",
    "#refactor end\n",
    "\n",
    "\n",
    "# Returns the second final layer of the AlexNet model,\n",
    "# this allows us to redo the last layer for the traffic signs\n",
    "# model.\n",
    "fc7 = AlexNet(x, feature_extract=True)\n",
    "fc7 = tf.stop_gradient(fc7)\n",
    "# shape = (fc7.get_shape().as_list()[-1], nb_classes)\n",
    "\n",
    "fc8_W = tf.Variable(tf.truncated_normal(shape=(fc7.get_shape().as_list()[-1], 1000), mean=0.01, stddev=3e-1))\n",
    "fc8_b = tf.Variable(tf.zeros(1000))\n",
    "fc8   = tf.matmul(fc7, fc8_W) + fc8_b\n",
    "fc8   = tf.nn.relu(fc8)\n",
    "fc8    = tf.nn.dropout(fc8, keep_prob)\n",
    "\n",
    "fc9_W = tf.Variable(tf.truncated_normal(shape=(1000, 250), mean=-0.01, stddev=6e-1))\n",
    "fc9_b = tf.Variable(tf.zeros(250))\n",
    "fc9   = tf.matmul(fc8, fc9_W) + fc9_b\n",
    "fc9   = tf.nn.relu(fc9)\n",
    "\n",
    "fc10_W = tf.Variable(tf.truncated_normal(shape=(250, 3), stddev=1e-10))\n",
    "fc10_b = tf.Variable(tf.zeros(nb_classes))\n",
    "logits = tf.nn.xw_plus_b(fc9, fc10_W, fc10_b)\n",
    "\n",
    "\n",
    "# cross_entropy = tf.nn.softmax_cross_entropy_with_logits(logits=logits, labels=one_hot_y)\n",
    "cross_entropy = tf.nn.sparse_softmax_cross_entropy_with_logits(logits=logits, labels=y)\n",
    "loss_operation = tf.reduce_mean(cross_entropy)\n",
    "optimizer = tf.train.AdamOptimizer(learning_rate=rate)\n",
    "training_operation = optimizer.minimize(loss_operation, var_list=[fc8_W, fc8_b, fc9_W, fc9_b, fc10_W, fc10_b])\n",
    "correct_prediction = tf.equal(tf.argmax(logits, 1), y)\n",
    "accuracy_operation = tf.reduce_mean(tf.cast(correct_prediction, tf.float32))\n",
    "\n",
    "\n",
    "def lambda_layer(image):\n",
    "    img_ = np.copy(image)\n",
    "    img_ = resize_image(img_, (H_IMG, W_IMG))\n",
    "#     img_ = cv2.cvtColor(img_, cv2.COLOR_BGR2YCrCb)\n",
    "#     img_ = cv2.cvtColor(img_, cv2.COLOR_BGR2HSV)\n",
    "\n",
    "#     img_ = img_[:, :, 0:2]\n",
    "#     img_ = img_[:, :, np.newaxis]\n",
    "    img_ = scale_image(img_)\n",
    "    return img_\n",
    "\n",
    "saver = tf.train.Saver()"
   ]
  },
  {
   "cell_type": "code",
   "execution_count": 36,
   "metadata": {},
   "outputs": [
    {
     "name": "stdout",
     "output_type": "stream",
     "text": [
      "INFO:tensorflow:Restoring parameters from ./alex_net_rgb_X\n",
      "alex_net_rgb_X Training...\n",
      "\n",
      "EPOCH 1 ...\n",
      "Train Accuracy = 0.949\n",
      "Validation Accuracy = 0.697\n",
      "\n",
      "EPOCH 2 ...\n",
      "Train Accuracy = 0.939\n",
      "Validation Accuracy = 0.695\n",
      "\n",
      "EPOCH 3 ...\n",
      "Train Accuracy = 0.922\n",
      "Validation Accuracy = 0.686\n",
      "\n",
      "EPOCH 4 ...\n",
      "Train Accuracy = 0.949\n",
      "Validation Accuracy = 0.702\n",
      "\n",
      "EPOCH 5 ...\n",
      "Train Accuracy = 0.946\n",
      "Validation Accuracy = 0.704\n",
      "\n",
      "EPOCH 6 ...\n",
      "Train Accuracy = 0.956\n",
      "Validation Accuracy = 0.707\n",
      "\n",
      "EPOCH 7 ...\n",
      "Train Accuracy = 0.937\n",
      "Validation Accuracy = 0.701\n",
      "\n",
      "EPOCH 8 ...\n",
      "Train Accuracy = 0.944\n",
      "Validation Accuracy = 0.693\n",
      "\n",
      "EPOCH 9 ...\n",
      "Train Accuracy = 0.952\n",
      "Validation Accuracy = 0.699\n",
      "\n",
      "EPOCH 10 ...\n",
      "Train Accuracy = 0.939\n",
      "Validation Accuracy = 0.696\n",
      "\n",
      "EPOCH 11 ...\n",
      "Train Accuracy = 0.951\n",
      "Validation Accuracy = 0.697\n",
      "\n",
      "EPOCH 12 ...\n",
      "Train Accuracy = 0.947\n",
      "Validation Accuracy = 0.697\n",
      "\n",
      "EPOCH 13 ...\n",
      "Train Accuracy = 0.951\n",
      "Validation Accuracy = 0.705\n",
      "\n",
      "EPOCH 14 ...\n",
      "Train Accuracy = 0.947\n",
      "Validation Accuracy = 0.704\n",
      "\n",
      "EPOCH 15 ...\n",
      "Train Accuracy = 0.952\n",
      "Validation Accuracy = 0.695\n",
      "\n",
      "EPOCH 16 ...\n",
      "Train Accuracy = 0.958\n",
      "Validation Accuracy = 0.692\n",
      "\n",
      "EPOCH 17 ...\n",
      "Train Accuracy = 0.958\n",
      "Validation Accuracy = 0.696\n",
      "\n",
      "EPOCH 18 ...\n",
      "Train Accuracy = 0.966\n",
      "Validation Accuracy = 0.699\n",
      "\n",
      "EPOCH 19 ...\n",
      "Train Accuracy = 0.959\n",
      "Validation Accuracy = 0.692\n",
      "\n",
      "EPOCH 20 ...\n",
      "Train Accuracy = 0.959\n",
      "Validation Accuracy = 0.697\n",
      "\n",
      "alex_net_rgb_X Model saved\n"
     ]
    }
   ],
   "source": [
    "alex_net_data = training_validation(\"alex_net_rgb_X\", train_generator, validation_generator,\n",
    "                                   train_steps, validation_steps, training_operation,\n",
    "                                   accuracy_operation, saver, train_opts={keep_prob: 0.5}, dict_ops={keep_prob: 1.0},\n",
    "                                   old_train=True, old_model=\"alex_net_rgb_X\", store=True, epochs=EPOCHS)"
   ]
  },
  {
   "cell_type": "code",
   "execution_count": null,
   "metadata": {},
   "outputs": [],
   "source": []
  },
  {
   "cell_type": "code",
   "execution_count": 24,
   "metadata": {},
   "outputs": [],
   "source": [
    "# alex_net_data = { \"save_path\": \"./alex_net_ycrcb_X_I\"}"
   ]
  },
  {
   "cell_type": "code",
   "execution_count": 37,
   "metadata": {},
   "outputs": [
    {
     "name": "stdout",
     "output_type": "stream",
     "text": [
      "INFO:tensorflow:Restoring parameters from ./alex_net_rgb_X\n",
      "Test Accuracy = 0.659\n"
     ]
    }
   ],
   "source": [
    "test_model(test_generator, test_steps, accuracy_operation, saver, dict_opts={keep_prob: 1.0}, name_model=alex_net_data['save_path'])"
   ]
  },
  {
   "cell_type": "code",
   "execution_count": 40,
   "metadata": {},
   "outputs": [
    {
     "name": "stdout",
     "output_type": "stream",
     "text": [
      "INFO:tensorflow:Restoring parameters from ./alex_net_rgb_X\n",
      "Evaluating on unseem data: ./alex_net_rgb_X\n",
      "unseem accuary is: 58.4%\n",
      "misclassification: {0: {0: 0, 1: 31, 2: 17}, 1: {0: 30, 1: 0, 2: 62}, 2: {0: 5, 1: 68, 2: 0}}\n",
      "Type 1: 35\n",
      "Type 2: 99\n",
      "Type 3: 79\n"
     ]
    }
   ],
   "source": [
    "test_on_unseen_data(alex_net_data['save_path'], frac=1.0, debug=False, probs=False)"
   ]
  },
  {
   "cell_type": "code",
   "execution_count": 61,
   "metadata": {},
   "outputs": [
    {
     "name": "stdout",
     "output_type": "stream",
     "text": [
      "INFO:tensorflow:Restoring parameters from ./alex_net_rgb_X\n",
      "Evaluating on unseem data: ./alex_net_rgb_X\n",
      "\n",
      "\n",
      "0\n",
      "Type 1 probability: 0.0\n",
      "Type 2 probability: 0.001\n",
      "Type 3 probability: 0.999\n",
      "\n",
      "0\n",
      "Type 1 probability: 0.256\n",
      "Type 2 probability: 0.551\n",
      "Type 3 probability: 0.194\n",
      "\n",
      "1\n",
      "Type 1 probability: 0.0\n",
      "Type 2 probability: 0.993\n",
      "Type 3 probability: 0.007\n",
      "\n",
      "1\n",
      "Type 1 probability: 0.258\n",
      "Type 2 probability: 0.529\n",
      "Type 3 probability: 0.213\n",
      "\n",
      "2\n",
      "Type 1 probability: 0.002\n",
      "Type 2 probability: 0.984\n",
      "Type 3 probability: 0.014\n",
      "\n",
      "2\n",
      "Type 1 probability: 0.001\n",
      "Type 2 probability: 0.07\n",
      "Type 3 probability: 0.929\n",
      "\n",
      "unseem accuary is: 50.0%\n",
      "misclassification: {0: {0: 0, 1: 1, 2: 1}, 1: {0: 0, 1: 0, 2: 0}, 2: {0: 0, 1: 1, 2: 0}}\n",
      "Type 1: 0\n",
      "Type 2: 2\n",
      "Type 3: 1\n"
     ]
    }
   ],
   "source": [
    "test_on_unseen_data(\"./alex_net_rgb_X\", data_=random_tests, debug=False, probs=True)"
   ]
  },
  {
   "cell_type": "code",
   "execution_count": 62,
   "metadata": {},
   "outputs": [
    {
     "name": "stdout",
     "output_type": "stream",
     "text": [
      "INFO:tensorflow:Restoring parameters from ./alex_net_rgb_X\n",
      "Evaluating on unseem data: ./alex_net_rgb_X\n",
      "\n",
      "\n",
      "0\n",
      "Type 1 probability: 0.021\n",
      "Type 2 probability: 0.316\n",
      "Type 3 probability: 0.663\n",
      "\n",
      "0\n",
      "Type 1 probability: 1.0\n",
      "Type 2 probability: 0.0\n",
      "Type 3 probability: 0.0\n",
      "\n",
      "1\n",
      "Type 1 probability: 1.0\n",
      "Type 2 probability: 0.0\n",
      "Type 3 probability: 0.0\n",
      "\n",
      "1\n",
      "Type 1 probability: 1.0\n",
      "Type 2 probability: 0.0\n",
      "Type 3 probability: 0.0\n",
      "\n",
      "2\n",
      "Type 1 probability: 1.0\n",
      "Type 2 probability: 0.0\n",
      "Type 3 probability: 0.0\n",
      "\n",
      "2\n",
      "Type 1 probability: 1.0\n",
      "Type 2 probability: 0.0\n",
      "Type 3 probability: 0.0\n",
      "\n",
      "unseem accuary is: 16.67%\n",
      "misclassification: {0: {0: 0, 1: 0, 2: 1}, 1: {0: 2, 1: 0, 2: 0}, 2: {0: 2, 1: 0, 2: 0}}\n",
      "Type 1: 4\n",
      "Type 2: 0\n",
      "Type 3: 1\n"
     ]
    }
   ],
   "source": [
    "test_on_unseen_data(\"./alex_net_rgb_X\", data_=random_tests_transform, debug=False, probs=True)"
   ]
  },
  {
   "cell_type": "markdown",
   "metadata": {},
   "source": [
    "## Features extracted"
   ]
  },
  {
   "cell_type": "code",
   "execution_count": 55,
   "metadata": {},
   "outputs": [],
   "source": [
    "### This function was provided in self-driving car course, I've used it before for traffic signs classifier \n",
    "## https://github.com/udacity/CarND-Traffic-Sign-Classifier-Project\n",
    "\n",
    "### Visualize your network's feature maps here.\n",
    "### Feel free to use as many code cells as needed.\n",
    "\n",
    "# image_input: the test image being fed into the network to produce the feature maps\n",
    "# tf_activation: should be a tf variable name used during your training procedure that represents the calculated state of a specific weight layer\n",
    "# activation_min/max: can be used to view the activation contrast in more detail, by default matplot sets min and max to the actual min and max values of the output\n",
    "# plt_num: used to plot out multiple different weight feature map sets on the same block, just extend the plt number for each new feature map entry\n",
    "\n",
    "def outputFeatureMap(image_input, tf_activation, activation_min=-1, activation_max=-1 ,plt_num=1):\n",
    "    # Here make sure to preprocess your image_input in a way your network expects\n",
    "    # with size, normalization, ect if needed\n",
    "    # image_input =\n",
    "    # Note: x should be the same name as your network's tensorflow data placeholder variable\n",
    "    # If you get an error tf_activation is not defined it maybe having trouble accessing the variable from inside a function\n",
    "    sess = tf.get_default_session()\n",
    "    activation = tf_activation.eval(session=sess,feed_dict={x : image_input, keep_prob: 1.0})\n",
    "    featuremaps = activation.shape[3]\n",
    "    plt.figure(plt_num, figsize=(15,15))\n",
    "    for featuremap in range(featuremaps):\n",
    "        plt.subplot(6,8, featuremap+1) # sets the number of feature maps to show on each row and column\n",
    "        plt.title('FeatureMap ' + str(featuremap)) # displays the feature map number\n",
    "        if activation_min != -1 & activation_max != -1:\n",
    "            plt.imshow(activation[0,:,:, featuremap], interpolation=\"nearest\", vmin =activation_min, vmax=activation_max, cmap=\"gray\")\n",
    "        elif activation_max != -1:\n",
    "            plt.imshow(activation[0,:,:, featuremap], interpolation=\"nearest\", vmax=activation_max, cmap=\"gray\")\n",
    "        elif activation_min !=-1:\n",
    "            plt.imshow(activation[0,:,:, featuremap], interpolation=\"nearest\", vmin=activation_min, cmap=\"gray\")\n",
    "        else:\n",
    "            plt.imshow(activation[0,:,:, featuremap], interpolation=\"nearest\", cmap=\"gray\")\n",
    "\n",
    "def plot_convolution_features(image, convolution, convolution_title):\n",
    "    with tf.Session() as sess:\n",
    "        print(convolution_title)\n",
    "        saver.restore(sess, './lenet5_experiment_hsv_hs')\n",
    "        outputFeatureMap([image], convolution)"
   ]
  },
  {
   "cell_type": "markdown",
   "metadata": {},
   "source": [
    "##### Features mapped"
   ]
  },
  {
   "cell_type": "code",
   "execution_count": 58,
   "metadata": {},
   "outputs": [
    {
     "name": "stdout",
     "output_type": "stream",
     "text": [
      "Type_1: 90.jpg\n",
      "Convolution-1 6 filters\n",
      "INFO:tensorflow:Restoring parameters from ./lenet5_experiment_hsv_hs\n"
     ]
    },
    {
     "data": {
      "image/png": "[encoded data removed]",
      "text/plain": [
       "<matplotlib.figure.Figure at 0x7f5d9edb7e80>"
      ]
     },
     "metadata": {},
     "output_type": "display_data"
    }
   ],
   "source": [
    "images_ = [( lambda_layer(mpimg.imread(im[1].image)), im[1].label + \": \" + im[1].image.split(\"/\")[-1] )for im in  random_tests.iterrows()]\n",
    "print(images_[0][1])\n",
    "plot_convolution_features(images_[0][0], convs_lenet5[\"conv1\"], \"Convolution-1 6 filters\")"
   ]
  },
  {
   "cell_type": "code",
   "execution_count": 59,
   "metadata": {},
   "outputs": [
    {
     "name": "stdout",
     "output_type": "stream",
     "text": [
      "Convolution-2 16 filters\n",
      "INFO:tensorflow:Restoring parameters from ./lenet5_experiment_hsv_hs\n"
     ]
    },
    {
     "data": {
      "image/png": "[encoded data removed]",
      "text/plain": [
       "<matplotlib.figure.Figure at 0x7f5d9eadb240>"
      ]
     },
     "metadata": {},
     "output_type": "display_data"
    }
   ],
   "source": [
    "plot_convolution_features(images_[0][0], convs_lenet5[\"conv2\"], \"Convolution-2 16 filters\")"
   ]
  },
  {
   "cell_type": "code",
   "execution_count": null,
   "metadata": {},
   "outputs": [],
   "source": [
    "## Image Type 2"
   ]
  },
  {
   "cell_type": "code",
   "execution_count": 60,
   "metadata": {},
   "outputs": [
    {
     "name": "stdout",
     "output_type": "stream",
     "text": [
      "Type_2: 315.jpg\n",
      "Convolution-1 6 filters\n",
      "INFO:tensorflow:Restoring parameters from ./lenet5_experiment_hsv_hs\n"
     ]
    },
    {
     "data": {
      "image/png": "[encoded data removed]",
      "text/plain": [
       "<matplotlib.figure.Figure at 0x7f5d9ee4ba90>"
      ]
     },
     "metadata": {},
     "output_type": "display_data"
    }
   ],
   "source": [
    "print(images_[2][1])\n",
    "plot_convolution_features(images_[2][0], convs_lenet5[\"conv1\"], \"Convolution-1 6 filters\")"
   ]
  },
  {
   "cell_type": "code",
   "execution_count": 62,
   "metadata": {},
   "outputs": [
    {
     "name": "stdout",
     "output_type": "stream",
     "text": [
      "Convolution-2 16 filters\n",
      "INFO:tensorflow:Restoring parameters from ./lenet5_experiment_hsv_hs\n"
     ]
    },
    {
     "data": {
      "image/png": "[encoded data removed]",
      "text/plain": [
       "<matplotlib.figure.Figure at 0x7f5d9c020f98>"
      ]
     },
     "metadata": {},
     "output_type": "display_data"
    }
   ],
   "source": [
    "plot_convolution_features(images_[2][0], convs_lenet5[\"conv2\"], \"Convolution-2 16 filters\")"
   ]
  },
  {
   "cell_type": "code",
   "execution_count": 63,
   "metadata": {},
   "outputs": [],
   "source": [
    "# Image type 3"
   ]
  },
  {
   "cell_type": "code",
   "execution_count": 64,
   "metadata": {},
   "outputs": [
    {
     "name": "stdout",
     "output_type": "stream",
     "text": [
      "Type_3: 418.jpg\n",
      "Convolution-1 6 filters\n",
      "INFO:tensorflow:Restoring parameters from ./lenet5_experiment_hsv_hs\n"
     ]
    },
    {
     "data": {
      "image/png": "[encoded data removed]",
      "text/plain": [
       "<matplotlib.figure.Figure at 0x7f5d9e949b70>"
      ]
     },
     "metadata": {},
     "output_type": "display_data"
    }
   ],
   "source": [
    "print(images_[4][1])\n",
    "plot_convolution_features(images_[4][0], convs_lenet5[\"conv1\"], \"Convolution-1 6 filters\")"
   ]
  },
  {
   "cell_type": "code",
   "execution_count": 65,
   "metadata": {},
   "outputs": [
    {
     "name": "stdout",
     "output_type": "stream",
     "text": [
      "Convolution-2 16 filters\n",
      "INFO:tensorflow:Restoring parameters from ./lenet5_experiment_hsv_hs\n"
     ]
    },
    {
     "data": {
      "image/png": "[encoded data removed]",
      "text/plain": [
       "<matplotlib.figure.Figure at 0x7f5d9ee1c4a8>"
      ]
     },
     "metadata": {},
     "output_type": "display_data"
    }
   ],
   "source": [
    "plot_convolution_features(images_[4][0], convs_lenet5[\"conv2\"], \"Convolution-2 16 filters\")"
   ]
  },
  {
   "cell_type": "code",
   "execution_count": null,
   "metadata": {},
   "outputs": [],
   "source": []
  }
 ],
 "metadata": {
  "anaconda-cloud": {},
  "kernelspec": {
   "display_name": "Python 3",
   "language": "python",
   "name": "python3"
  },
  "language_info": {
   "codemirror_mode": {
    "name": "ipython",
    "version": 3
   },
   "file_extension": ".py",
   "mimetype": "text/x-python",
   "name": "python",
   "nbconvert_exporter": "python",
   "pygments_lexer": "ipython3",
   "version": "3.6.4"
  },
  "widgets": {
   "state": {},
   "version": "1.1.2"
  }
 },
 "nbformat": 4,
 "nbformat_minor": 1
}
